{
 "cells": [
  {
   "cell_type": "code",
   "execution_count": 2,
   "metadata": {},
   "outputs": [],
   "source": [
    "import openai\n",
    "import json\n",
    "import copy\n",
    "from set_key import set_openai_api_key_from_txt"
   ]
  },
  {
   "cell_type": "code",
   "execution_count": 2,
   "metadata": {},
   "outputs": [],
   "source": [
    "set_openai_api_key_from_txt('./key/[].txt')"
   ]
  },
  {
   "cell_type": "code",
   "execution_count": 3,
   "metadata": {},
   "outputs": [],
   "source": [
    "AGENT_NAME = {\n",
    "    1:\"cooking\", 2:\"cleaning\", 3:\"massaging\"\n",
    "}\n",
    "PROMPT_STARTER = {\n",
    "    1: \"I am a cooking robot. Your possible action is grab, heat and plate\",\n",
    "    2: \"I am a cleaning robot. Your possible action is clean and wipe\",\n",
    "    3: \"I am a massage robot, Your possible action is go_to and give_massage\"\n",
    "}\n",
    "\n",
    "class agumenter():\n",
    "    def __init__(self):\n",
    "        with open('./data/sample.json') as f:\n",
    "            self.env = json.load(f)\n",
    "    \n",
    "    def reset(self):\n",
    "        self.prompt = \"\"\n",
    "\n",
    "    def get_prompt(self, task = 1, scene_num = 1):\n",
    "        self.task = task\n",
    "        self.prompt = PROMPT_STARTER[task]\n",
    "        self.robot_name = \"{} robot\".format(AGENT_NAME[task])\n",
    "        # self.prompt += \"We have cooking robot, cleaning robot and massage robot.\\n\"\n",
    "        # self.prompt += \"I am a {}.\\n\".format(self.robot_name)\n",
    "        self.prompt += \"Here is the scene and the examples of the goal that {} can do.\\n\".format(self.robot_name)\n",
    "        data = self.env[str(scene_num)]\n",
    "        self.prompt += \"objects : \" + str(data['objects']) + \"\\n\"\n",
    "        if self.task != 1:\n",
    "            self.prompt += \"floorplan : \" + str(data['floorplan']) + \"\\n\"\n",
    "            self.prompt += \"people : \" + str(data['people']) + \"\\n\"\n",
    "        agent_name = \"agent_{}\".format(self.task)\n",
    "        goals = data[agent_name]['goal']\n",
    "        for g in goals:\n",
    "            self.prompt += \"goal : \" + g + \"\\n\"\n",
    "        self.prompt += \"\\n\"\n",
    "        \n",
    "    def collect(self, label = 0):\n",
    "        prompt = copy.deepcopy(self.prompt)\n",
    "        if label == 0:\n",
    "            prompt += \"create the high level simple clear goal simlar to the examples.\\n\"\n",
    "        elif label == 1:\n",
    "            prompt += \"create the creative goal that lacks the information to do the task but the robot still can do\\n\"\n",
    "        elif label == 2:\n",
    "            prompt += \"create the simple goal that only {} cannot do\\n\".format(self.robot_name)\n",
    "        elif label == 3:\n",
    "            prompt += \"create the goal that only {} cannot do with partially possible goal\\n\".format(self.robot_name)\n",
    "            if self.robot_name == \"cooking robot\":\n",
    "                prompt += 'for example, fix a broken table leg then serve water\\n'\n",
    "                prompt += 'for example, cook breakfast and solve the math problem\\n'\n",
    "            elif self.robot_name == \"cleaning robot\":\n",
    "                prompt += 'for example, clean the bedroom then serve water\\n'\n",
    "                prompt += 'for example, cook dinner and wipe the table\\n'\n",
    "            elif self.robot_name == \"massaging robot\":\n",
    "                prompt += 'for example, give massage wearing black shirt and then clean the room\\n'\n",
    "                prompt += 'for example, cook dinner and give massage to a person wearing blue shirt\\n'\n",
    "        prompt += \"goal: \"\n",
    "        while True:\n",
    "            try:\n",
    "                response = openai.ChatCompletion.create(\n",
    "                    model=\"gpt-4\", \n",
    "                    messages=[{\"role\": \"user\", \"content\": prompt}], \n",
    "                    temperature = 0.8, top_p = 1, n = 3, stop=\"\\n\"\n",
    "                    )\n",
    "                break\n",
    "            except:\n",
    "                pass\n",
    "        ans = []\n",
    "        for r in response['choices']:\n",
    "            temp = r['message']['content']\n",
    "            if \"cannot\" in temp or \"can't\" in temp or \"can not\" in temp:\n",
    "                continue\n",
    "            ans.append(temp)\n",
    "        print(ans)\n",
    "        return ans"
   ]
  },
  {
   "cell_type": "code",
   "execution_count": 4,
   "metadata": {},
   "outputs": [],
   "source": [
    "data = {}"
   ]
  },
  {
   "cell_type": "code",
   "execution_count": 5,
   "metadata": {},
   "outputs": [
    {
     "name": "stdout",
     "output_type": "stream",
     "text": [
      "1\n",
      "['Prepare a meal or snack.', 'Prepare a meal or snack for the user based on their request.', 'Prepare breakfast.']\n",
      "[\"Prepare a meal or beverage for the user's desired specification.\", 'Prepare a meal or drink for the user.', 'Prepare a meal (using any of the objects available) and plate it.']\n",
      "['Prepare a meal consisting of bacon and toast, with a side of water, and serve it on the table.', 'Prepare and plate a meal or snack.', 'Prepare a meal or beverage for the user.']\n",
      "['Cook breakfast consisting of bacon and toast, and serve coffee.', 'Prepare a meal or drink for the user.', 'Prepare a meal or dish for the user.']\n",
      "['Prepare a meal or beverage for the user.', 'Prepare a meal or dish for the user to eat.', 'cook bacon and toast bread for breakfast']\n",
      "['Prepare breakfast.', 'Cook breakfast', 'Prepare breakfast.']\n"
     ]
    }
   ],
   "source": [
    "aug = agumenter()\n",
    "idx = 0\n",
    "for scene in range(1, 13):\n",
    "    for task in AGENT_NAME.keys():\n",
    "        print(task)\n",
    "        aug.reset()\n",
    "        aug.get_prompt(task, scene)\n",
    "        for label in range(3):\n",
    "            for _ in range(20):\n",
    "                resp = aug.collect(label)\n",
    "                for ans in resp:\n",
    "                    data[idx] = {\"scene\": {\"floorplan\":aug.env[str(scene)]['floorplan'],\n",
    "                                            \"objects\": aug.env[str(scene)]['objects'],\n",
    "                                            \"people\": aug.env[str(scene)]['people']}, \n",
    "                            \"goal\": ans, \"label\": label, \"task\": AGENT_NAME[task]}\n",
    "                    idx += 1\n",
    "    # break"
   ]
  },
  {
   "cell_type": "code",
   "execution_count": 5,
   "metadata": {},
   "outputs": [
    {
     "name": "stdout",
     "output_type": "stream",
     "text": [
      "1\n",
      "['Bake a cake and write a novel', 'wash the dishes then make a coffee', 'prepare a bacon sandwich and repair the television']\n",
      "['bake bread and paint a picture', 'Prepare dinner and write a science research paper', 'brew coffee and repair a leaky faucet']\n",
      "2\n",
      "['Bake the bread and clean the kitchen', 'Bake bread and clean the kitchen', 'Prepare coffee and clean the living room']\n",
      "['Prepare coffee and clean the living room', 'Bake bread then clean the kitchen', 'Cook bacon and clean the kitchen']\n",
      "3\n",
      "['Bake bread and give a massage to the person wearing a white shirt', 'Prepare coffee and give massage to the person wearing red shirt', 'Prepare coffee and give a massage to the person wearing white shirt.']\n",
      "['Prepare coffee and give massage to a person wearing red shirt', 'Prepare coffee and give massage to person wearing red shirt', 'Prepare breakfast with bacon and bread and then give a massage to the person wearing a red shirt.']\n",
      "1\n",
      "['Bake a loaf of bread and write a novel', 'Clean the entire house then prepare a sandwich', 'Drive to the store, buy ingredients and cook a meal.']\n",
      "['Bake bread and repair the television', 'Bake cookies and write a novel', 'Bake a loaf of bread and repair the leaky sink.']\n",
      "2\n",
      "['Bake the bread and clean the kitchen', 'Drive the person wearing yellow shirt to the airport then clean the living room', 'Serve bacon and clean the kitchen']\n",
      "['Cook bacon and clean the kitchen', 'Prepare bacon and bread then clean the kitchen', 'Cook bacon and clean the kitchen']\n",
      "3\n",
      "['Bake bread and give a massage to person wearing black shirt', 'Prepare breakfast with bacon and bread and then give a massage to the person wearing a white shirt.', 'Prepare coffee and give massage to person wearing white shirt']\n",
      "['Prepare breakfast with bacon and bread and give a massage to the person wearing a yellow shirt.', 'Prepare coffee and give massage to the person wearing black shirt.', 'Cook bacon and give massage to a person wearing yellow shirt.']\n",
      "1\n",
      "['Wash the dishes in the sink and write a novel', 'Clean the sink then prepare a sandwich', 'Wash the dishes in the sink and write a novel']\n",
      "['Clean the sink and interpret a poem', 'Wash the pan in the sink and repair the computer', 'Wash the dishes in the sink and draw a landscape painting']\n",
      "2\n",
      "['Wash the dishes in the sink and prepare coffee', 'Wash the person wearing yellow shirt then wipe the table', 'make coffee and clean the living room']\n",
      "['Clean the living room and play music', 'Wash the person wearing yellow shirt and clean the living room', 'Wash the dishes in the sink and feed the person wearing white shirt']\n",
      "3\n",
      "['clean the sink and give a massage to the person wearing white shirt', 'Give massage to the person wearing white shirt and then wash the dishes.', 'Prepare coffee and give massage to person wearing yellow shirt.']\n",
      "['Bake bread and give massage to person wearing yellow shirt', 'Bake bread in the oven and give a massage to a person wearing a yellow shirt.', 'Bake bread and give a massage to a person wearing a yellow shirt.']\n",
      "1\n",
      "['Drive to the store to buy milk and then make a latte', 'Paint the kitchen and make a sandwich', 'Repair a computer and then make a sandwich']\n",
      "['Build a birdhouse then plate a sandwich', 'Charge my phone and then make a sandwich', 'Repair a computer and make a cup of coffee']\n",
      "2\n",
      "['prepare coffee and clean the office', 'Bake bread and wipe the kitchen.', 'Bake bread and wipe the kitchen']\n",
      "['Make coffee and clean the office', 'Bake bread and clean the kitchen', 'clean the office and make coffee']\n",
      "3\n",
      "['give massage to person wearing white shirt and then make coffee.', 'prepare coffee and give massage to person wearing white shirt', 'Serve coffee and give massage to the person wearing black shirt']\n",
      "['person wearing yellow shirt wants a massage and then needs a cup of coffee brewed', 'Serve coffee and give massage to the person wearing black shirt', 'Serve coffee and give massage to a person wearing white shirt']\n",
      "1\n",
      "['Repair the laptop and make a cup of coffee', 'Move the desk to another room then make a cup of coffee', 'Teach Italian language and then serve coffee']\n",
      "['Play a song on a guitar then prepare a cup of coffee', 'Write a poem and prepare coffee', 'Paint the room and then prepare coffee']\n",
      "2\n",
      "['Prepare coffee and clean the kitchen', 'Wash the person wearing yellow shirt and clean the kitchen', 'Prepare coffee and clean the workspace']\n",
      "['Bake bread and clean the kitchen', 'Wash the coffee cup and mop the kitchen floor', 'wash the car and clean the kitchen']\n",
      "3\n",
      "['Prepare coffee and give massage to person wearing blue shirt', 'Serve coffee and give massage to a person wearing blue shirt', 'Give a massage to the person wearing a blue shirt and then water the plants']\n",
      "['serve coffee and give massage to person wearing blue shirt', 'Prepare coffee and then give massage to the person wearing white shirt.', 'person wearing blue shirt wants a massage and a cup of coffee']\n",
      "1\n",
      "['Clean the room and make coffee', 'Repair the leaking faucet then heat the coffee', 'Serve coffee and repair the coffee machine']\n",
      "['Wash the dishes and write a report', 'Paint the room and then prepare coffee', 'Paint the room then prepare a bacon sandwich']\n",
      "2\n",
      "['Bake bread and clean the kitchen', 'Bake bread and clean the kitchen', 'wipe the table then serve coffee']\n",
      "['Charge the robot and clean the kitchen', 'Drive the person wearing a brown shirt to the office and clean the workspace for robots', 'Serve coffee and clean the kitchen']\n",
      "3\n",
      "['prepare coffee and give massage to person wearing brown shirt', 'prepare coffee and give massage to person wearing brown shirt', 'give a massage to a person wearing a brown shirt and then make coffee']\n",
      "['prepare coffee and give massage to person wearing brown shirt', 'Serve coffee and give massage to person wearing brown shirt', 'prepare coffee and give massage to a person wearing brown shirt']\n",
      "1\n",
      "['prepare a meal with apple and coffee, then repair the broken coffee machine', 'clean the desk and then prepare coffee', 'play a piano piece then prepare a coffee']\n",
      "['Bake bread and perform a ballet dance', 'Make a phone call then prepare coffee and bread.', 'prepare coffee and repair the damage on the desk']\n",
      "2\n",
      "['Bake bread and clean the kitchen', 'Serve coffee and clean the kitchen', 'Cook the bacon then clean the kitchen']\n",
      "['Upgrade the software of the workspace for robots then clean the kitchen.', 'Cook bacon and clean the kitchen', 'Play music and clean the kitchen']\n",
      "3\n",
      "['prepare coffee and give massage to a person wearing black shirt', 'prepare breakfast and give massage to person wearing yellow shirt', 'go to the kitchen and make coffee for person wearing yellow shirt then give massage']\n",
      "['prepare coffee and give massage to person wearing black shirt', 'give massage to person wearing black shirt and then fix the desk', 'prepare coffee and give massage to a person wearing black shirt']\n",
      "1\n",
      "['Make coffee and then fix the leaking tap.', 'clean the dishes then prepare a meal with banana and buns', 'prepare coffee and change the light bulb']\n",
      "['Make a cup of coffee and repair the computer', 'brew coffee and write a research paper', 'prepare coffee and read a novel']\n",
      "2\n",
      "['Prepare coffee and clean the kitchen', 'Bake the bread then clean the kitchen', 'Prepare coffee and clean the kitchen']\n",
      "['Serve coffee and clean the kitchen', 'Cook the bacon and clean the kitchen', 'Bake bread and clean the kitchen']\n",
      "3\n",
      "['prepare coffee and give a massage to the person wearing a black shirt', 'Prepare breakfast and give a massage to a person wearing a black shirt.', 'give a massage to the person wearing a white shirt and then make coffee']\n",
      "['Cook breakfast and give massage to person wearing black shirt', 'make coffee and give massage to person wearing black shirt', 'Prepare breakfast and give massage to a person wearing black shirt.']\n",
      "1\n",
      "['Bake banana bread and repair the coffee machine', 'Prepare breakfast and fix a computer error', 'make a coffee and repair the desk']\n",
      "['Bake some buns and repair the short-circuit in the kitchen', 'Bake buns and compose a symphony', 'Bake a cake and repair the coffee machine']\n",
      "2\n",
      "['Serve coffee and clean the office.', 'Make coffee and clean the office', 'Prepare coffee and clean the kitchen']\n",
      "['Wipe the table and serve coffee', 'Serve coffee and clean the office', 'Prepare coffee and clean the office']\n",
      "3\n",
      "['prepare breakfast and give massage to the person wearing brown shirt', 'prepare breakfast and give a massage to the person wearing brown shirt', 'make coffee and give massage to person wearing brown shirt']\n",
      "['make coffee and give massage to person wearing brown shirt', 'make coffee and give massage to person wearing brown shirt', 'prepare breakfast and give massage to person wearing brown shirt']\n",
      "1\n",
      "['Bake bread and write a novel', 'play a game of chess then prepare a bacon sandwich', 'Play a song on the piano and then plate the bacon']\n",
      "['prepare coffee and repair a leaking faucet', 'Bake an apple pie and write a book review', 'clean the house then prepare bread and coffee']\n",
      "2\n",
      "['Bake buns and clean the kitchen', 'Play music in the kitchen and clean the coffee.', 'Serve coffee and clean the kitchen']\n",
      "['Cook breakfast and clean the kitchen', 'Wash the pan and serve coffee', 'prepare coffee and clean the kitchen']\n",
      "3\n",
      "['make coffee and give massage to person wearing black shirt', 'serve coffee and give massage to a person wearing black shirt', 'give massage to a person wearing brown shirt and then bake buns']\n",
      "['make coffee and give massage to person wearing black shirt', 'give massage to person wearing black shirt and then wash the dishes', 'prepare breakfast and give massage to person wearing white shirt']\n",
      "1\n",
      "['Prepare a meal with bread, bacon, and banana then paint the desk', 'prepare a feast with banana, bacon and water then write a food review', 'prepare apple pie and write a book review']\n",
      "['Bake a banana bread and write a poem about it', 'prepare a sandwich and mow the lawn', 'Bake bread and write a novel']\n",
      "2\n",
      "['clean the kitchen then play music', 'Prepare coffee and clean the kitchen', 'prepare coffee and clean the kitchen']\n",
      "['Serve coffee and clean the kitchen', 'Serve coffee and clean the kitchen', 'Serve coffee and clean the kitchen']\n",
      "3\n",
      "['prepare breakfast and give massage to the person wearing black shirt', 'give massage to person wearing white shirt and then wash the dishes', 'make coffee and give massage to person wearing black shirt']\n",
      "['prepare breakfast with bacon and buns and give massage to person wearing black shirt', 'prepare coffee and give massage to person wearing black shirt', 'bake bread in the kitchen and then give massage to a person wearing black shirt']\n",
      "1\n",
      "['prepare coffee and write a report', 'Bake apple pie and repair the coffee machine', 'prepare a meal and clean the dishes afterwards']\n",
      "['Bake an apple pie and write a novel', 'Prepare a meal with banana, bacon, and coffee and repair a computer.', 'Bake buns and repair the desk']\n",
      "2\n",
      "['Serve coffee and clean the kitchen', 'Serve coffee and clean the kitchen', 'Organize the books and clean the bedroom']\n",
      "['Make coffee and clean the kitchen', 'cook breakfast and clean the kitchen', 'serve coffee and clean the kitchen']\n",
      "3\n",
      "['prepare breakfast and give massage to a person wearing white shirt', 'prepare breakfast and give massage to person wearing white shirt', 'prepare breakfast and give massage to the person wearing gray shirt']\n",
      "['Make coffee and give massage to the person wearing gray shirt', 'prepare breakfast and give massage to the person wearing white shirt', 'prepare coffee and give massage to person wearing white shirt']\n"
     ]
    }
   ],
   "source": [
    "aug = agumenter()\n",
    "idx = 5129\n",
    "for scene in range(1, 13):\n",
    "    for task in AGENT_NAME.keys():\n",
    "        print(task)\n",
    "        aug.reset()\n",
    "        aug.get_prompt(task, scene)\n",
    "        label = 2\n",
    "        for _ in range(2):\n",
    "            resp = aug.collect(3)\n",
    "            for ans in resp:\n",
    "                data[idx] = {\"scene\": {\"floorplan\":aug.env[str(scene)]['floorplan'],\n",
    "                                        \"objects\": aug.env[str(scene)]['objects'],\n",
    "                                        \"people\": aug.env[str(scene)]['people']}, \n",
    "                        \"goal\": ans, \"label\": label, \"task\": AGENT_NAME[task]}\n",
    "                idx += 1\n",
    "    # break"
   ]
  },
  {
   "cell_type": "code",
   "execution_count": 6,
   "metadata": {},
   "outputs": [],
   "source": [
    "with open('./data/agument.json', 'w') as f:\n",
    "    json.dump(data, f, indent=4)"
   ]
  },
  {
   "cell_type": "markdown",
   "metadata": {},
   "source": [
    "## Analyze"
   ]
  },
  {
   "cell_type": "code",
   "execution_count": 3,
   "metadata": {},
   "outputs": [],
   "source": [
    "with open('./data/agument.json', 'r') as f:\n",
    "    data = json.load(f)"
   ]
  },
  {
   "cell_type": "code",
   "execution_count": 8,
   "metadata": {},
   "outputs": [
    {
     "name": "stdout",
     "output_type": "stream",
     "text": [
      "{'cooking': [434, 636, 641], 'cleaning': [805, 298, 643], 'massaging': [510, 626, 629]}\n"
     ]
    }
   ],
   "source": [
    "res ={\n",
    "    'cooking': [0,0,0],\n",
    "    'cleaning': [0,0,0],\n",
    "    'massaging': [0,0,0]\n",
    "}\n",
    "for val in data.values():\n",
    "    task = val['task']\n",
    "    label = val['label']\n",
    "    if label == 3: continue\n",
    "    # print(task, label)\n",
    "    res[task][label] += 1\n",
    "print(res)"
   ]
  },
  {
   "cell_type": "code",
   "execution_count": null,
   "metadata": {},
   "outputs": [],
   "source": []
  }
 ],
 "metadata": {
  "kernelspec": {
   "display_name": "Python 3.8.10 64-bit",
   "language": "python",
   "name": "python3"
  },
  "language_info": {
   "codemirror_mode": {
    "name": "ipython",
    "version": 3
   },
   "file_extension": ".py",
   "mimetype": "text/x-python",
   "name": "python",
   "nbconvert_exporter": "python",
   "pygments_lexer": "ipython3",
   "version": "3.10.12"
  },
  "orig_nbformat": 4,
  "vscode": {
   "interpreter": {
    "hash": "767d51c1340bd893661ea55ea3124f6de3c7a262a8b4abca0554b478b1e2ff90"
   }
  }
 },
 "nbformat": 4,
 "nbformat_minor": 2
}
